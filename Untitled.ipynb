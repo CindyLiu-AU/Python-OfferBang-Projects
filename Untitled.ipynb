{
 "cells": [
  {
   "cell_type": "markdown",
   "id": "b8d62dd4",
   "metadata": {},
   "source": [
    "2. 【Python选修】Python Variables-list, tuple, dictionary. Loops and logics 视频 2 小时\n",
    "\n",
    "       done     1. List 1\n",
    "             12 分钟\n",
    "\n",
    "       done     2. List 2\n",
    "             16 分钟\n",
    "\n",
    "       done     3. Tuple _ String\n",
    "             16 分钟\n",
    "\n",
    "       done     4. Dictionary\n",
    "             12 分钟\n",
    "\n",
    "       done     5. For Loop\n",
    "             12 分钟\n",
    "\n",
    "            6. While Loop\n",
    "             6 分钟\n",
    "\n",
    "            7. Boolean\n",
    "             15 分钟\n",
    "\n",
    "            8. Continue _ Break\n",
    "             6 分钟"
   ]
  },
  {
   "cell_type": "code",
   "execution_count": 2,
   "id": "0cb09a5d",
   "metadata": {},
   "outputs": [
    {
     "data": {
      "text/plain": [
       "[1, 'char', <function print>, [1, 2, 3]]"
      ]
     },
     "execution_count": 2,
     "metadata": {},
     "output_type": "execute_result"
    }
   ],
   "source": [
    "hybridList = [1, 'char', print, [1,2,3]]\n",
    "hybridList"
   ]
  },
  {
   "cell_type": "code",
   "execution_count": 3,
   "id": "ea126730",
   "metadata": {},
   "outputs": [
    {
     "data": {
      "text/plain": [
       "builtin_function_or_method"
      ]
     },
     "execution_count": 3,
     "metadata": {},
     "output_type": "execute_result"
    }
   ],
   "source": [
    "type(print)"
   ]
  },
  {
   "cell_type": "code",
   "execution_count": 4,
   "id": "d62689f6",
   "metadata": {},
   "outputs": [
    {
     "data": {
      "text/plain": [
       "list"
      ]
     },
     "execution_count": 4,
     "metadata": {},
     "output_type": "execute_result"
    }
   ],
   "source": [
    "type(hybridList)"
   ]
  },
  {
   "cell_type": "code",
   "execution_count": 5,
   "id": "b986dbc4",
   "metadata": {},
   "outputs": [
    {
     "data": {
      "text/plain": [
       "4"
      ]
     },
     "execution_count": 5,
     "metadata": {},
     "output_type": "execute_result"
    }
   ],
   "source": [
    "len(hybridList)"
   ]
  },
  {
   "cell_type": "code",
   "execution_count": 6,
   "id": "b3d1c941",
   "metadata": {},
   "outputs": [
    {
     "data": {
      "text/plain": [
       "True"
      ]
     },
     "execution_count": 6,
     "metadata": {},
     "output_type": "execute_result"
    }
   ],
   "source": [
    "1 in hybridList"
   ]
  },
  {
   "cell_type": "code",
   "execution_count": 7,
   "id": "ae0b618d",
   "metadata": {},
   "outputs": [
    {
     "data": {
      "text/plain": [
       "False"
      ]
     },
     "execution_count": 7,
     "metadata": {},
     "output_type": "execute_result"
    }
   ],
   "source": [
    "2 in hybridList"
   ]
  },
  {
   "cell_type": "code",
   "execution_count": 8,
   "id": "baf53fcc",
   "metadata": {},
   "outputs": [
    {
     "data": {
      "text/plain": [
       "True"
      ]
     },
     "execution_count": 8,
     "metadata": {},
     "output_type": "execute_result"
    }
   ],
   "source": [
    "[1,2,3] in hybridList"
   ]
  },
  {
   "cell_type": "code",
   "execution_count": 9,
   "id": "a7231a6d",
   "metadata": {},
   "outputs": [
    {
     "data": {
      "text/plain": [
       "True"
      ]
     },
     "execution_count": 9,
     "metadata": {},
     "output_type": "execute_result"
    }
   ],
   "source": [
    "print in hybridList"
   ]
  },
  {
   "cell_type": "code",
   "execution_count": 10,
   "id": "fc87145a",
   "metadata": {},
   "outputs": [
    {
     "data": {
      "text/plain": [
       "1"
      ]
     },
     "execution_count": 10,
     "metadata": {},
     "output_type": "execute_result"
    }
   ],
   "source": [
    "hybridList[0]"
   ]
  },
  {
   "cell_type": "code",
   "execution_count": 11,
   "id": "529c0886",
   "metadata": {},
   "outputs": [
    {
     "data": {
      "text/plain": [
       "<function print>"
      ]
     },
     "execution_count": 11,
     "metadata": {},
     "output_type": "execute_result"
    }
   ],
   "source": [
    "hybridList[2]"
   ]
  },
  {
   "cell_type": "code",
   "execution_count": 13,
   "id": "bb33d8ad",
   "metadata": {},
   "outputs": [
    {
     "data": {
      "text/plain": [
       "[1, 'char', <function print>]"
      ]
     },
     "execution_count": 13,
     "metadata": {},
     "output_type": "execute_result"
    }
   ],
   "source": [
    "hybridList[0:3]"
   ]
  },
  {
   "cell_type": "code",
   "execution_count": 14,
   "id": "e86ad508",
   "metadata": {},
   "outputs": [
    {
     "data": {
      "text/plain": [
       "[1, 2, 3]"
      ]
     },
     "execution_count": 14,
     "metadata": {},
     "output_type": "execute_result"
    }
   ],
   "source": [
    "hybridList[-1]"
   ]
  },
  {
   "cell_type": "code",
   "execution_count": 15,
   "id": "dbb8ec7b",
   "metadata": {},
   "outputs": [
    {
     "data": {
      "text/plain": [
       "<function print>"
      ]
     },
     "execution_count": 15,
     "metadata": {},
     "output_type": "execute_result"
    }
   ],
   "source": [
    "hybridList[-2]"
   ]
  },
  {
   "cell_type": "code",
   "execution_count": 16,
   "id": "53c9a084",
   "metadata": {},
   "outputs": [
    {
     "data": {
      "text/plain": [
       "[[1, 2, 3], <function print>, 'char', 1]"
      ]
     },
     "execution_count": 16,
     "metadata": {},
     "output_type": "execute_result"
    }
   ],
   "source": [
    "hybridList[::-1]"
   ]
  },
  {
   "cell_type": "code",
   "execution_count": 17,
   "id": "d72e0cbb",
   "metadata": {},
   "outputs": [
    {
     "data": {
      "text/plain": [
       "[1, 'char', <function print>, [1, 2, 3]]"
      ]
     },
     "execution_count": 17,
     "metadata": {},
     "output_type": "execute_result"
    }
   ],
   "source": [
    "hybridList"
   ]
  },
  {
   "cell_type": "code",
   "execution_count": 18,
   "id": "ad2d0465",
   "metadata": {},
   "outputs": [
    {
     "data": {
      "text/plain": [
       "[1, 2, 3]"
      ]
     },
     "execution_count": 18,
     "metadata": {},
     "output_type": "execute_result"
    }
   ],
   "source": [
    "hybridList[::-1][0]"
   ]
  },
  {
   "cell_type": "code",
   "execution_count": 19,
   "id": "a85f0c0d",
   "metadata": {},
   "outputs": [
    {
     "data": {
      "text/plain": [
       "[1, 'char', <function print>, [1, 2, 3]]"
      ]
     },
     "execution_count": 19,
     "metadata": {},
     "output_type": "execute_result"
    }
   ],
   "source": [
    "hybridList[:]"
   ]
  },
  {
   "cell_type": "code",
   "execution_count": 20,
   "id": "53a29c20",
   "metadata": {},
   "outputs": [],
   "source": [
    "hybridList[1] = \"hello world\""
   ]
  },
  {
   "cell_type": "code",
   "execution_count": 21,
   "id": "3319eaa6",
   "metadata": {},
   "outputs": [
    {
     "data": {
      "text/plain": [
       "[1, 'hello world', <function print>, [1, 2, 3]]"
      ]
     },
     "execution_count": 21,
     "metadata": {},
     "output_type": "execute_result"
    }
   ],
   "source": [
    "hybridList"
   ]
  },
  {
   "cell_type": "code",
   "execution_count": 22,
   "id": "4b58ac79",
   "metadata": {},
   "outputs": [
    {
     "data": {
      "text/plain": [
       "[1, 'hello world', <function print>, [1, 2, 3], 't']"
      ]
     },
     "execution_count": 22,
     "metadata": {},
     "output_type": "execute_result"
    }
   ],
   "source": [
    "hybridList.append('t')\n",
    "hybridList"
   ]
  },
  {
   "cell_type": "code",
   "execution_count": 24,
   "id": "1e8abb87",
   "metadata": {},
   "outputs": [
    {
     "data": {
      "text/plain": [
       "list"
      ]
     },
     "execution_count": 24,
     "metadata": {},
     "output_type": "execute_result"
    }
   ],
   "source": [
    "type(hybridList)"
   ]
  },
  {
   "cell_type": "code",
   "execution_count": 25,
   "id": "c687a76a",
   "metadata": {},
   "outputs": [
    {
     "data": {
      "text/plain": [
       "[1, 'Learn', 'hello world', <function print>, [1, 2, 3], 't']"
      ]
     },
     "execution_count": 25,
     "metadata": {},
     "output_type": "execute_result"
    }
   ],
   "source": [
    "hybridList.insert(1, \"Learn\")\n",
    "hybridList"
   ]
  },
  {
   "cell_type": "code",
   "execution_count": 26,
   "id": "3a533599",
   "metadata": {},
   "outputs": [
    {
     "data": {
      "text/plain": [
       "'t'"
      ]
     },
     "execution_count": 26,
     "metadata": {},
     "output_type": "execute_result"
    }
   ],
   "source": [
    "pop_from_list = hybridList.pop()\n",
    "pop_from_list"
   ]
  },
  {
   "cell_type": "code",
   "execution_count": 30,
   "id": "4c156a66",
   "metadata": {},
   "outputs": [
    {
     "data": {
      "text/plain": [
       "[1, 'Learn', 'hello world', <function print>, [1, 2, 3]]"
      ]
     },
     "execution_count": 30,
     "metadata": {},
     "output_type": "execute_result"
    }
   ],
   "source": [
    "hybridList"
   ]
  },
  {
   "cell_type": "code",
   "execution_count": 31,
   "id": "0e32c624",
   "metadata": {},
   "outputs": [
    {
     "ename": "NameError",
     "evalue": "name 'hybrdList' is not defined",
     "output_type": "error",
     "traceback": [
      "\u001b[1;31m---------------------------------------------------------------------------\u001b[0m",
      "\u001b[1;31mNameError\u001b[0m                                 Traceback (most recent call last)",
      "\u001b[1;32m~\\AppData\\Local\\Temp/ipykernel_2888/1762170441.py\u001b[0m in \u001b[0;36m<module>\u001b[1;34m\u001b[0m\n\u001b[1;32m----> 1\u001b[1;33m \u001b[0mhybrdList\u001b[0m\u001b[1;33m.\u001b[0m\u001b[0mpop\u001b[0m\u001b[1;33m(\u001b[0m\u001b[1;33m)\u001b[0m\u001b[1;33m\u001b[0m\u001b[1;33m\u001b[0m\u001b[0m\n\u001b[0m",
      "\u001b[1;31mNameError\u001b[0m: name 'hybrdList' is not defined"
     ]
    }
   ],
   "source": [
    "hybrdList.pop()"
   ]
  },
  {
   "cell_type": "code",
   "execution_count": 32,
   "id": "63f8567a",
   "metadata": {},
   "outputs": [],
   "source": [
    "hybridList.remove(\"Learn\")"
   ]
  },
  {
   "cell_type": "code",
   "execution_count": 33,
   "id": "9c8c89c9",
   "metadata": {},
   "outputs": [
    {
     "data": {
      "text/plain": [
       "[1, 'hello world', <function print>, [1, 2, 3]]"
      ]
     },
     "execution_count": 33,
     "metadata": {},
     "output_type": "execute_result"
    }
   ],
   "source": [
    "hybridList"
   ]
  },
  {
   "cell_type": "code",
   "execution_count": 34,
   "id": "4deedc10",
   "metadata": {},
   "outputs": [],
   "source": [
    "hybridList.remove(hybridList[0])"
   ]
  },
  {
   "cell_type": "code",
   "execution_count": 35,
   "id": "d66bc1ab",
   "metadata": {},
   "outputs": [
    {
     "data": {
      "text/plain": [
       "['hello world', <function print>, [1, 2, 3]]"
      ]
     },
     "execution_count": 35,
     "metadata": {},
     "output_type": "execute_result"
    }
   ],
   "source": [
    "hybridList"
   ]
  },
  {
   "cell_type": "code",
   "execution_count": 36,
   "id": "5af82760",
   "metadata": {},
   "outputs": [],
   "source": [
    "del hybridList[1]"
   ]
  },
  {
   "cell_type": "code",
   "execution_count": 37,
   "id": "c6a15366",
   "metadata": {},
   "outputs": [
    {
     "data": {
      "text/plain": [
       "['hello world', [1, 2, 3]]"
      ]
     },
     "execution_count": 37,
     "metadata": {},
     "output_type": "execute_result"
    }
   ],
   "source": [
    "hybridList"
   ]
  },
  {
   "cell_type": "markdown",
   "id": "b5aceb9b",
   "metadata": {},
   "source": [
    "List operation"
   ]
  },
  {
   "cell_type": "code",
   "execution_count": 38,
   "id": "74cd13fe",
   "metadata": {},
   "outputs": [
    {
     "data": {
      "text/plain": [
       "'abcabcabc'"
      ]
     },
     "execution_count": 38,
     "metadata": {},
     "output_type": "execute_result"
    }
   ],
   "source": [
    "\"abc\" * 3"
   ]
  },
  {
   "cell_type": "code",
   "execution_count": 39,
   "id": "d51e72c9",
   "metadata": {},
   "outputs": [
    {
     "data": {
      "text/plain": [
       "[1, 2, 2, 3]"
      ]
     },
     "execution_count": 39,
     "metadata": {},
     "output_type": "execute_result"
    }
   ],
   "source": [
    "list_a = [1,2]\n",
    "list_b = [2,3]\n",
    "list_a + list_b"
   ]
  },
  {
   "cell_type": "code",
   "execution_count": 40,
   "id": "f3f82d93",
   "metadata": {},
   "outputs": [
    {
     "data": {
      "text/plain": [
       "[1, 2, 1, 2, 1, 2, 1, 2, 1, 2]"
      ]
     },
     "execution_count": 40,
     "metadata": {},
     "output_type": "execute_result"
    }
   ],
   "source": [
    "list_a * 5"
   ]
  },
  {
   "cell_type": "code",
   "execution_count": 41,
   "id": "e2f2ee19",
   "metadata": {},
   "outputs": [],
   "source": [
    "hybridList.extend(list_a)"
   ]
  },
  {
   "cell_type": "code",
   "execution_count": 42,
   "id": "2bfb4820",
   "metadata": {},
   "outputs": [
    {
     "data": {
      "text/plain": [
       "['hello world', [1, 2, 3], 1, 2]"
      ]
     },
     "execution_count": 42,
     "metadata": {},
     "output_type": "execute_result"
    }
   ],
   "source": [
    "hybridList"
   ]
  },
  {
   "cell_type": "code",
   "execution_count": 43,
   "id": "04e7899b",
   "metadata": {},
   "outputs": [
    {
     "data": {
      "text/plain": [
       "['hello world', [1, 2, 3], 1, 2, [2, 3]]"
      ]
     },
     "execution_count": 43,
     "metadata": {},
     "output_type": "execute_result"
    }
   ],
   "source": [
    "hybridList.append(list_b)\n",
    "hybridList"
   ]
  },
  {
   "cell_type": "code",
   "execution_count": 46,
   "id": "8c71e799",
   "metadata": {},
   "outputs": [
    {
     "data": {
      "text/plain": [
       "2"
      ]
     },
     "execution_count": 46,
     "metadata": {},
     "output_type": "execute_result"
    }
   ],
   "source": [
    "hybridList.index(1)"
   ]
  },
  {
   "cell_type": "code",
   "execution_count": 47,
   "id": "8d32caa0",
   "metadata": {},
   "outputs": [
    {
     "data": {
      "text/plain": [
       "4"
      ]
     },
     "execution_count": 47,
     "metadata": {},
     "output_type": "execute_result"
    }
   ],
   "source": [
    "hybridList.index([2,3])"
   ]
  },
  {
   "cell_type": "code",
   "execution_count": 48,
   "id": "40fe2b9a",
   "metadata": {},
   "outputs": [
    {
     "data": {
      "text/plain": [
       "0"
      ]
     },
     "execution_count": 48,
     "metadata": {},
     "output_type": "execute_result"
    }
   ],
   "source": [
    "hybridList.index(\"hello world\")"
   ]
  },
  {
   "cell_type": "code",
   "execution_count": 49,
   "id": "f1d4c9f5",
   "metadata": {},
   "outputs": [
    {
     "data": {
      "text/plain": [
       "1"
      ]
     },
     "execution_count": 49,
     "metadata": {},
     "output_type": "execute_result"
    }
   ],
   "source": [
    "hybridList.count(2)"
   ]
  },
  {
   "cell_type": "code",
   "execution_count": 50,
   "id": "b942a5a6",
   "metadata": {},
   "outputs": [
    {
     "data": {
      "text/plain": [
       "1"
      ]
     },
     "execution_count": 50,
     "metadata": {},
     "output_type": "execute_result"
    }
   ],
   "source": [
    "hybridList.count(\"hello world\")"
   ]
  },
  {
   "cell_type": "code",
   "execution_count": 51,
   "id": "4fd2dbbf",
   "metadata": {},
   "outputs": [
    {
     "data": {
      "text/plain": [
       "0"
      ]
     },
     "execution_count": 51,
     "metadata": {},
     "output_type": "execute_result"
    }
   ],
   "source": [
    "hybridList.count(\"hahaha\")"
   ]
  },
  {
   "cell_type": "code",
   "execution_count": 52,
   "id": "2b488f05",
   "metadata": {},
   "outputs": [],
   "source": [
    "hybridList.reverse()"
   ]
  },
  {
   "cell_type": "code",
   "execution_count": 53,
   "id": "4e7e6097",
   "metadata": {},
   "outputs": [
    {
     "data": {
      "text/plain": [
       "[[2, 3], 2, 1, [1, 2, 3], 'hello world']"
      ]
     },
     "execution_count": 53,
     "metadata": {},
     "output_type": "execute_result"
    }
   ],
   "source": [
    "hybridList"
   ]
  },
  {
   "cell_type": "code",
   "execution_count": 54,
   "id": "fc2a1289",
   "metadata": {},
   "outputs": [
    {
     "data": {
      "text/plain": [
       "['hello world', [1, 2, 3], 1, 2, [2, 3]]"
      ]
     },
     "execution_count": 54,
     "metadata": {},
     "output_type": "execute_result"
    }
   ],
   "source": [
    "hybridList[::-1]"
   ]
  },
  {
   "cell_type": "code",
   "execution_count": 55,
   "id": "3ae9b037",
   "metadata": {},
   "outputs": [
    {
     "data": {
      "text/plain": [
       "[[2, 3], 2, 1, [1, 2, 3], 'hello world']"
      ]
     },
     "execution_count": 55,
     "metadata": {},
     "output_type": "execute_result"
    }
   ],
   "source": [
    "hybridList"
   ]
  },
  {
   "cell_type": "markdown",
   "id": "0cf0dcad",
   "metadata": {},
   "source": [
    "Tuple"
   ]
  },
  {
   "cell_type": "code",
   "execution_count": 56,
   "id": "57602b0f",
   "metadata": {},
   "outputs": [],
   "source": [
    "hybridTuple = (1, \"char\", print)"
   ]
  },
  {
   "cell_type": "code",
   "execution_count": 57,
   "id": "ab50b132",
   "metadata": {},
   "outputs": [
    {
     "data": {
      "text/plain": [
       "(1, 'char', <function print>)"
      ]
     },
     "execution_count": 57,
     "metadata": {},
     "output_type": "execute_result"
    }
   ],
   "source": [
    "hybridTuple"
   ]
  },
  {
   "cell_type": "code",
   "execution_count": 58,
   "id": "7329e28a",
   "metadata": {},
   "outputs": [
    {
     "data": {
      "text/plain": [
       "tuple"
      ]
     },
     "execution_count": 58,
     "metadata": {},
     "output_type": "execute_result"
    }
   ],
   "source": [
    "type(hybridTuple)"
   ]
  },
  {
   "cell_type": "code",
   "execution_count": 59,
   "id": "18f3cd19",
   "metadata": {},
   "outputs": [
    {
     "data": {
      "text/plain": [
       "3"
      ]
     },
     "execution_count": 59,
     "metadata": {},
     "output_type": "execute_result"
    }
   ],
   "source": [
    "len(hybridTuple)"
   ]
  },
  {
   "cell_type": "code",
   "execution_count": 60,
   "id": "68ad5abf",
   "metadata": {},
   "outputs": [
    {
     "data": {
      "text/plain": [
       "1"
      ]
     },
     "execution_count": 60,
     "metadata": {},
     "output_type": "execute_result"
    }
   ],
   "source": [
    "hybridTuple[0]"
   ]
  },
  {
   "cell_type": "code",
   "execution_count": 61,
   "id": "7be64293",
   "metadata": {},
   "outputs": [
    {
     "data": {
      "text/plain": [
       "'char'"
      ]
     },
     "execution_count": 61,
     "metadata": {},
     "output_type": "execute_result"
    }
   ],
   "source": [
    "hybridTuple[1]"
   ]
  },
  {
   "cell_type": "code",
   "execution_count": 62,
   "id": "acecb5bb",
   "metadata": {},
   "outputs": [
    {
     "ename": "TypeError",
     "evalue": "'tuple' object does not support item assignment",
     "output_type": "error",
     "traceback": [
      "\u001b[1;31m---------------------------------------------------------------------------\u001b[0m",
      "\u001b[1;31mTypeError\u001b[0m                                 Traceback (most recent call last)",
      "\u001b[1;32m~\\AppData\\Local\\Temp/ipykernel_2888/3135617279.py\u001b[0m in \u001b[0;36m<module>\u001b[1;34m\u001b[0m\n\u001b[1;32m----> 1\u001b[1;33m \u001b[0mhybridTuple\u001b[0m\u001b[1;33m[\u001b[0m\u001b[1;36m1\u001b[0m\u001b[1;33m]\u001b[0m \u001b[1;33m=\u001b[0m \u001b[1;34m\"Learn\"\u001b[0m\u001b[1;33m\u001b[0m\u001b[1;33m\u001b[0m\u001b[0m\n\u001b[0m",
      "\u001b[1;31mTypeError\u001b[0m: 'tuple' object does not support item assignment"
     ]
    }
   ],
   "source": [
    "hybridTuple[1] = \"Learn\""
   ]
  },
  {
   "cell_type": "code",
   "execution_count": 63,
   "id": "d72c8ed5",
   "metadata": {},
   "outputs": [
    {
     "ename": "AttributeError",
     "evalue": "'tuple' object has no attribute 'append'",
     "output_type": "error",
     "traceback": [
      "\u001b[1;31m---------------------------------------------------------------------------\u001b[0m",
      "\u001b[1;31mAttributeError\u001b[0m                            Traceback (most recent call last)",
      "\u001b[1;32m~\\AppData\\Local\\Temp/ipykernel_2888/3299678644.py\u001b[0m in \u001b[0;36m<module>\u001b[1;34m\u001b[0m\n\u001b[1;32m----> 1\u001b[1;33m \u001b[0mhybridTuple\u001b[0m\u001b[1;33m.\u001b[0m\u001b[0mappend\u001b[0m\u001b[1;33m(\u001b[0m\u001b[1;36m1\u001b[0m\u001b[1;33m)\u001b[0m\u001b[1;33m\u001b[0m\u001b[1;33m\u001b[0m\u001b[0m\n\u001b[0m",
      "\u001b[1;31mAttributeError\u001b[0m: 'tuple' object has no attribute 'append'"
     ]
    }
   ],
   "source": [
    "hybridTuple.append(1)"
   ]
  },
  {
   "cell_type": "code",
   "execution_count": 64,
   "id": "c7988b55",
   "metadata": {},
   "outputs": [
    {
     "ename": "AttributeError",
     "evalue": "'tuple' object has no attribute 'pop'",
     "output_type": "error",
     "traceback": [
      "\u001b[1;31m---------------------------------------------------------------------------\u001b[0m",
      "\u001b[1;31mAttributeError\u001b[0m                            Traceback (most recent call last)",
      "\u001b[1;32m~\\AppData\\Local\\Temp/ipykernel_2888/434377514.py\u001b[0m in \u001b[0;36m<module>\u001b[1;34m\u001b[0m\n\u001b[1;32m----> 1\u001b[1;33m \u001b[0ma\u001b[0m \u001b[1;33m=\u001b[0m \u001b[0mhybridTuple\u001b[0m\u001b[1;33m.\u001b[0m\u001b[0mpop\u001b[0m\u001b[1;33m(\u001b[0m\u001b[1;33m)\u001b[0m\u001b[1;33m\u001b[0m\u001b[1;33m\u001b[0m\u001b[0m\n\u001b[0m",
      "\u001b[1;31mAttributeError\u001b[0m: 'tuple' object has no attribute 'pop'"
     ]
    }
   ],
   "source": [
    "a = hybridTuple.pop()"
   ]
  },
  {
   "cell_type": "code",
   "execution_count": 65,
   "id": "1e73f5c4",
   "metadata": {},
   "outputs": [
    {
     "data": {
      "text/plain": [
       "1"
      ]
     },
     "execution_count": 65,
     "metadata": {},
     "output_type": "execute_result"
    }
   ],
   "source": [
    "hybridTuple.count(1)"
   ]
  },
  {
   "cell_type": "code",
   "execution_count": 66,
   "id": "6b8855bd",
   "metadata": {},
   "outputs": [
    {
     "data": {
      "text/plain": [
       "1"
      ]
     },
     "execution_count": 66,
     "metadata": {},
     "output_type": "execute_result"
    }
   ],
   "source": [
    "hybridTuple.index(\"char\")"
   ]
  },
  {
   "cell_type": "code",
   "execution_count": 68,
   "id": "80f7493b",
   "metadata": {},
   "outputs": [
    {
     "data": {
      "text/plain": [
       "list"
      ]
     },
     "execution_count": 68,
     "metadata": {},
     "output_type": "execute_result"
    }
   ],
   "source": [
    "change_type = list(hybridTuple)\n",
    "type(change_type)"
   ]
  },
  {
   "cell_type": "code",
   "execution_count": 69,
   "id": "8fce9ca2",
   "metadata": {},
   "outputs": [
    {
     "data": {
      "text/plain": [
       "[1, 'char', <function print>]"
      ]
     },
     "execution_count": 69,
     "metadata": {},
     "output_type": "execute_result"
    }
   ],
   "source": [
    "change_type"
   ]
  },
  {
   "cell_type": "code",
   "execution_count": 70,
   "id": "87171838",
   "metadata": {},
   "outputs": [
    {
     "data": {
      "text/plain": [
       "([2, 3], 2, 1, [1, 2, 3], 'hello world')"
      ]
     },
     "execution_count": 70,
     "metadata": {},
     "output_type": "execute_result"
    }
   ],
   "source": [
    "change_type_back = tuple(hybridList)\n",
    "change_type_back"
   ]
  },
  {
   "cell_type": "markdown",
   "id": "7c9b92b8",
   "metadata": {},
   "source": [
    "String"
   ]
  },
  {
   "cell_type": "code",
   "execution_count": 71,
   "id": "1162c934",
   "metadata": {},
   "outputs": [
    {
     "data": {
      "text/plain": [
       "True"
      ]
     },
     "execution_count": 71,
     "metadata": {},
     "output_type": "execute_result"
    }
   ],
   "source": [
    "my_string = \"Hello World\"\n",
    "\"Hello\" in my_string"
   ]
  },
  {
   "cell_type": "code",
   "execution_count": 72,
   "id": "ca3e2108",
   "metadata": {},
   "outputs": [
    {
     "data": {
      "text/plain": [
       "False"
      ]
     },
     "execution_count": 72,
     "metadata": {},
     "output_type": "execute_result"
    }
   ],
   "source": [
    "'hello' in my_string"
   ]
  },
  {
   "cell_type": "code",
   "execution_count": 73,
   "id": "fe3c1c9b",
   "metadata": {},
   "outputs": [
    {
     "data": {
      "text/plain": [
       "'H'"
      ]
     },
     "execution_count": 73,
     "metadata": {},
     "output_type": "execute_result"
    }
   ],
   "source": [
    "my_string[0]"
   ]
  },
  {
   "cell_type": "code",
   "execution_count": 74,
   "id": "48207970",
   "metadata": {},
   "outputs": [
    {
     "ename": "TypeError",
     "evalue": "'str' object does not support item assignment",
     "output_type": "error",
     "traceback": [
      "\u001b[1;31m---------------------------------------------------------------------------\u001b[0m",
      "\u001b[1;31mTypeError\u001b[0m                                 Traceback (most recent call last)",
      "\u001b[1;32m~\\AppData\\Local\\Temp/ipykernel_2888/3290335869.py\u001b[0m in \u001b[0;36m<module>\u001b[1;34m\u001b[0m\n\u001b[1;32m----> 1\u001b[1;33m \u001b[0mmy_string\u001b[0m\u001b[1;33m[\u001b[0m\u001b[1;36m0\u001b[0m\u001b[1;33m]\u001b[0m \u001b[1;33m=\u001b[0m \u001b[1;34m\"e\"\u001b[0m\u001b[1;33m\u001b[0m\u001b[1;33m\u001b[0m\u001b[0m\n\u001b[0m",
      "\u001b[1;31mTypeError\u001b[0m: 'str' object does not support item assignment"
     ]
    }
   ],
   "source": [
    "my_string[0] = \"e\""
   ]
  },
  {
   "cell_type": "markdown",
   "id": "a93564b2",
   "metadata": {},
   "source": [
    "convert string into list"
   ]
  },
  {
   "cell_type": "code",
   "execution_count": 75,
   "id": "d28734f8",
   "metadata": {},
   "outputs": [
    {
     "data": {
      "text/plain": [
       "['H', 'e', 'l', 'l', 'o', ' ', 'W', 'o', 'r', 'l', 'd']"
      ]
     },
     "execution_count": 75,
     "metadata": {},
     "output_type": "execute_result"
    }
   ],
   "source": [
    "my_list = list(my_string)\n",
    "my_list"
   ]
  },
  {
   "cell_type": "code",
   "execution_count": 77,
   "id": "e08c6b14",
   "metadata": {},
   "outputs": [
    {
     "data": {
      "text/plain": [
       "\"['H', 'e', 'l', 'l', 'o', ' ', 'W', 'o', 'r', 'l', 'd']\""
      ]
     },
     "execution_count": 77,
     "metadata": {},
     "output_type": "execute_result"
    }
   ],
   "source": [
    "my_string_back = str(my_list)\n",
    "my_string_back"
   ]
  },
  {
   "cell_type": "code",
   "execution_count": 78,
   "id": "45923a35",
   "metadata": {},
   "outputs": [
    {
     "data": {
      "text/plain": [
       "str"
      ]
     },
     "execution_count": 78,
     "metadata": {},
     "output_type": "execute_result"
    }
   ],
   "source": [
    "type(my_string_back)"
   ]
  },
  {
   "cell_type": "code",
   "execution_count": 79,
   "id": "a2c11e60",
   "metadata": {},
   "outputs": [
    {
     "data": {
      "text/plain": [
       "'Hello World'"
      ]
     },
     "execution_count": 79,
     "metadata": {},
     "output_type": "execute_result"
    }
   ],
   "source": [
    "my_string"
   ]
  },
  {
   "cell_type": "code",
   "execution_count": 80,
   "id": "d78c9baf",
   "metadata": {},
   "outputs": [
    {
     "data": {
      "text/plain": [
       "['Hello', 'World']"
      ]
     },
     "execution_count": 80,
     "metadata": {},
     "output_type": "execute_result"
    }
   ],
   "source": [
    "my_string.split(\" \")"
   ]
  },
  {
   "cell_type": "code",
   "execution_count": 83,
   "id": "329ed4a3",
   "metadata": {},
   "outputs": [
    {
     "data": {
      "text/plain": [
       "['spam', 'spam', 'spam']"
      ]
     },
     "execution_count": 83,
     "metadata": {},
     "output_type": "execute_result"
    }
   ],
   "source": [
    "spam_name = \"spam-spam-spam\"\n",
    "spam_name_new = spam_name.split(\"-\")\n",
    "spam_name_new"
   ]
  },
  {
   "cell_type": "code",
   "execution_count": 84,
   "id": "f6bb8aa1",
   "metadata": {},
   "outputs": [],
   "source": [
    "delimiter = \"-\""
   ]
  },
  {
   "cell_type": "code",
   "execution_count": 86,
   "id": "e4d8a6fe",
   "metadata": {},
   "outputs": [
    {
     "data": {
      "text/plain": [
       "['y', 'd', 'fs', 'f', 'ds']"
      ]
     },
     "execution_count": 86,
     "metadata": {},
     "output_type": "execute_result"
    }
   ],
   "source": [
    "long_string = \"y-d-fs-f-ds\"\n",
    "long_string_new = long_string.split(delimiter)\n",
    "long_string_new"
   ]
  },
  {
   "cell_type": "code",
   "execution_count": 87,
   "id": "cf4578ed",
   "metadata": {},
   "outputs": [
    {
     "data": {
      "text/plain": [
       "['what', 'is', 'your', 'name']"
      ]
     },
     "execution_count": 87,
     "metadata": {},
     "output_type": "execute_result"
    }
   ],
   "source": [
    "another_long_string = \"what is your name\"\n",
    "another_long_string_new = another_long_string.split()\n",
    "another_long_string_new"
   ]
  },
  {
   "cell_type": "markdown",
   "id": "e1cf4b09",
   "metadata": {},
   "source": [
    "sub-string"
   ]
  },
  {
   "cell_type": "code",
   "execution_count": 88,
   "id": "36a04155",
   "metadata": {},
   "outputs": [
    {
     "data": {
      "text/plain": [
       "'how-are-you'"
      ]
     },
     "execution_count": 88,
     "metadata": {},
     "output_type": "execute_result"
    }
   ],
   "source": [
    "sub_string_list = [\"how\", \"are\", \"you\"]\n",
    "a = \"-\".join(sub_string_list)\n",
    "a"
   ]
  },
  {
   "cell_type": "code",
   "execution_count": 89,
   "id": "0730ba33",
   "metadata": {},
   "outputs": [
    {
     "data": {
      "text/plain": [
       "'how are you'"
      ]
     },
     "execution_count": 89,
     "metadata": {},
     "output_type": "execute_result"
    }
   ],
   "source": [
    "b = \" \".join(sub_string_list)\n",
    "b"
   ]
  },
  {
   "cell_type": "markdown",
   "id": "4d1d0e07",
   "metadata": {},
   "source": [
    "            4. Dictionary\n",
    "             12 分钟"
   ]
  },
  {
   "cell_type": "code",
   "execution_count": 91,
   "id": "e124c283",
   "metadata": {},
   "outputs": [],
   "source": [
    "simple_dict1 = {\"wang\": 12, \"li\": 98, \"liu\": 6} # more popular to construct dictionary"
   ]
  },
  {
   "cell_type": "code",
   "execution_count": 94,
   "id": "cfaba636",
   "metadata": {},
   "outputs": [],
   "source": [
    "simple_dict2 = dict(lin = 12, zhe = 90)"
   ]
  },
  {
   "cell_type": "code",
   "execution_count": 95,
   "id": "a023aab8",
   "metadata": {},
   "outputs": [
    {
     "name": "stdout",
     "output_type": "stream",
     "text": [
      "{'wang': 12, 'li': 98, 'liu': 6}\n"
     ]
    }
   ],
   "source": [
    "print(simple_dict1)"
   ]
  },
  {
   "cell_type": "code",
   "execution_count": 96,
   "id": "22061ce6",
   "metadata": {},
   "outputs": [
    {
     "name": "stdout",
     "output_type": "stream",
     "text": [
      "{'lin': 12, 'zhe': 90}\n"
     ]
    }
   ],
   "source": [
    "print(simple_dict2)"
   ]
  },
  {
   "cell_type": "code",
   "execution_count": 100,
   "id": "78344f39",
   "metadata": {},
   "outputs": [
    {
     "ename": "KeyError",
     "evalue": "-1",
     "output_type": "error",
     "traceback": [
      "\u001b[1;31m---------------------------------------------------------------------------\u001b[0m",
      "\u001b[1;31mKeyError\u001b[0m                                  Traceback (most recent call last)",
      "\u001b[1;32m~\\AppData\\Local\\Temp/ipykernel_2888/2178463724.py\u001b[0m in \u001b[0;36m<module>\u001b[1;34m\u001b[0m\n\u001b[1;32m----> 1\u001b[1;33m \u001b[0msimple_dict1\u001b[0m\u001b[1;33m[\u001b[0m\u001b[1;33m-\u001b[0m\u001b[1;36m1\u001b[0m\u001b[1;33m]\u001b[0m\u001b[1;33m\u001b[0m\u001b[1;33m\u001b[0m\u001b[0m\n\u001b[0m",
      "\u001b[1;31mKeyError\u001b[0m: -1"
     ]
    }
   ],
   "source": [
    "simple_dict1[-1]"
   ]
  },
  {
   "cell_type": "code",
   "execution_count": 101,
   "id": "3ac16670",
   "metadata": {},
   "outputs": [
    {
     "data": {
      "text/plain": [
       "98"
      ]
     },
     "execution_count": 101,
     "metadata": {},
     "output_type": "execute_result"
    }
   ],
   "source": [
    "simple_dict1[\"li\"]"
   ]
  },
  {
   "cell_type": "code",
   "execution_count": 102,
   "id": "11c28c74",
   "metadata": {},
   "outputs": [
    {
     "data": {
      "text/plain": [
       "98"
      ]
     },
     "execution_count": 102,
     "metadata": {},
     "output_type": "execute_result"
    }
   ],
   "source": [
    "simple_dict1.get('li')"
   ]
  },
  {
   "cell_type": "code",
   "execution_count": 103,
   "id": "dda7e2e9",
   "metadata": {},
   "outputs": [
    {
     "data": {
      "text/plain": [
       "98"
      ]
     },
     "execution_count": 103,
     "metadata": {},
     "output_type": "execute_result"
    }
   ],
   "source": [
    "simple_dict1.get(\"li\")"
   ]
  },
  {
   "cell_type": "code",
   "execution_count": 104,
   "id": "6769216c",
   "metadata": {},
   "outputs": [
    {
     "data": {
      "text/plain": [
       "dict_keys(['wang', 'li', 'liu'])"
      ]
     },
     "execution_count": 104,
     "metadata": {},
     "output_type": "execute_result"
    }
   ],
   "source": [
    "simple_dict1.keys()"
   ]
  },
  {
   "cell_type": "code",
   "execution_count": 107,
   "id": "b18dcdb1",
   "metadata": {},
   "outputs": [
    {
     "data": {
      "text/plain": [
       "['wang', 'li', 'liu']"
      ]
     },
     "execution_count": 107,
     "metadata": {},
     "output_type": "execute_result"
    }
   ],
   "source": [
    "keys = list(simple_dict1.keys())\n",
    "keys"
   ]
  },
  {
   "cell_type": "code",
   "execution_count": 109,
   "id": "b32ab000",
   "metadata": {},
   "outputs": [],
   "source": [
    "simple_dict1.update({\"li\" : 100})"
   ]
  },
  {
   "cell_type": "code",
   "execution_count": 110,
   "id": "17995dc3",
   "metadata": {},
   "outputs": [
    {
     "data": {
      "text/plain": [
       "{'wang': 12, 'li': 100, 'liu': 6}"
      ]
     },
     "execution_count": 110,
     "metadata": {},
     "output_type": "execute_result"
    }
   ],
   "source": [
    "simple_dict1"
   ]
  },
  {
   "cell_type": "code",
   "execution_count": 111,
   "id": "17ac2a4b",
   "metadata": {},
   "outputs": [
    {
     "data": {
      "text/plain": [
       "{'lin': 12, 'zhe': 2000}"
      ]
     },
     "execution_count": 111,
     "metadata": {},
     "output_type": "execute_result"
    }
   ],
   "source": [
    "simple_dict2[\"zhe\"] = 2000\n",
    "simple_dict2"
   ]
  },
  {
   "cell_type": "markdown",
   "id": "3ea14df2",
   "metadata": {},
   "source": [
    "            5. For Loop\n",
    "             12 分钟"
   ]
  },
  {
   "cell_type": "code",
   "execution_count": 118,
   "id": "c1d68b1d",
   "metadata": {},
   "outputs": [
    {
     "data": {
      "text/plain": [
       "range(0, 10)"
      ]
     },
     "execution_count": 118,
     "metadata": {},
     "output_type": "execute_result"
    }
   ],
   "source": [
    "i = range(10)\n",
    "i"
   ]
  },
  {
   "cell_type": "code",
   "execution_count": 119,
   "id": "e3c4770c",
   "metadata": {},
   "outputs": [
    {
     "data": {
      "text/plain": [
       "range"
      ]
     },
     "execution_count": 119,
     "metadata": {},
     "output_type": "execute_result"
    }
   ],
   "source": [
    "type(i)"
   ]
  },
  {
   "cell_type": "code",
   "execution_count": 120,
   "id": "379d5355",
   "metadata": {},
   "outputs": [
    {
     "name": "stdout",
     "output_type": "stream",
     "text": [
      "range(0, 10)\n"
     ]
    }
   ],
   "source": [
    "print(i)"
   ]
  },
  {
   "cell_type": "code",
   "execution_count": 121,
   "id": "1a064dad",
   "metadata": {},
   "outputs": [
    {
     "data": {
      "text/plain": [
       "10"
      ]
     },
     "execution_count": 121,
     "metadata": {},
     "output_type": "execute_result"
    }
   ],
   "source": [
    "len(i)"
   ]
  },
  {
   "cell_type": "code",
   "execution_count": 125,
   "id": "0d6e67fb",
   "metadata": {},
   "outputs": [
    {
     "data": {
      "text/plain": [
       "[0, 1, 2, 3, 4, 5, 6, 7, 8, 9]"
      ]
     },
     "execution_count": 125,
     "metadata": {},
     "output_type": "execute_result"
    }
   ],
   "source": [
    "j = list(i)\n",
    "j"
   ]
  },
  {
   "cell_type": "code",
   "execution_count": 127,
   "id": "f111b9a2",
   "metadata": {},
   "outputs": [],
   "source": [
    "w = range(2, 15)"
   ]
  },
  {
   "cell_type": "code",
   "execution_count": 128,
   "id": "966b02de",
   "metadata": {},
   "outputs": [
    {
     "data": {
      "text/plain": [
       "[2, 3, 4, 5, 6, 7, 8, 9, 10, 11, 12, 13, 14]"
      ]
     },
     "execution_count": 128,
     "metadata": {},
     "output_type": "execute_result"
    }
   ],
   "source": [
    "list(w)"
   ]
  },
  {
   "cell_type": "code",
   "execution_count": 129,
   "id": "1d68878d",
   "metadata": {},
   "outputs": [
    {
     "name": "stdout",
     "output_type": "stream",
     "text": [
      "1\n",
      "2\n",
      "3\n",
      "4\n",
      "5\n",
      "6\n",
      "7\n",
      "8\n",
      "9\n",
      "10\n"
     ]
    }
   ],
   "source": [
    "for i in range(1,11):\n",
    "    print (i)"
   ]
  },
  {
   "cell_type": "code",
   "execution_count": 130,
   "id": "1db9b4fe",
   "metadata": {},
   "outputs": [
    {
     "name": "stdout",
     "output_type": "stream",
     "text": [
      "0\n",
      "1\n",
      "2\n",
      "3\n",
      "4\n",
      "5\n",
      "6\n",
      "7\n",
      "8\n",
      "9\n"
     ]
    }
   ],
   "source": [
    "for i in range(10):\n",
    "    print(i)"
   ]
  },
  {
   "cell_type": "code",
   "execution_count": 137,
   "id": "477a248b",
   "metadata": {},
   "outputs": [
    {
     "data": {
      "text/plain": [
       "str"
      ]
     },
     "execution_count": 137,
     "metadata": {},
     "output_type": "execute_result"
    }
   ],
   "source": [
    "name = ''\n",
    "type(name)"
   ]
  },
  {
   "cell_type": "code",
   "execution_count": 138,
   "id": "1748ccb7",
   "metadata": {},
   "outputs": [
    {
     "name": "stdout",
     "output_type": "stream",
     "text": [
      "abby\n",
      "cindy\n",
      "bob\n",
      "abby\n",
      "cindy\n",
      "bob\n"
     ]
    },
    {
     "data": {
      "text/plain": [
       "'abbycindybobabbycindybob'"
      ]
     },
     "execution_count": 138,
     "metadata": {},
     "output_type": "execute_result"
    }
   ],
   "source": [
    "for temp_name in [\"abby\",\"cindy\",\"bob\",\"abby\",\"cindy\",\"bob\"]:\n",
    "    name = name + temp_name\n",
    "    print(temp_name)\n",
    "    \n",
    "name"
   ]
  },
  {
   "cell_type": "code",
   "execution_count": 134,
   "id": "25ac65d7",
   "metadata": {},
   "outputs": [
    {
     "name": "stdout",
     "output_type": "stream",
     "text": [
      "abby\n",
      "cindy\n",
      "bob\n",
      "abby\n",
      "cindy\n",
      "bob\n"
     ]
    },
    {
     "data": {
      "text/plain": [
       "'abbycindybobabbycindybob'"
      ]
     },
     "execution_count": 134,
     "metadata": {},
     "output_type": "execute_result"
    }
   ],
   "source": [
    "raw_name = ''\n",
    "name_tuple = (\"abby\",\"cindy\",\"bob\",\"abby\",\"cindy\",\"bob\")\n",
    "for each_name in name_tuple:\n",
    "    raw_name = raw_name + each_name\n",
    "    print(each_name)\n",
    "raw_name"
   ]
  },
  {
   "cell_type": "code",
   "execution_count": 139,
   "id": "097a3f37",
   "metadata": {},
   "outputs": [
    {
     "data": {
      "text/plain": [
       "{'wang': 12, 'li': 100, 'liu': 6}"
      ]
     },
     "execution_count": 139,
     "metadata": {},
     "output_type": "execute_result"
    }
   ],
   "source": [
    "simple_dict1"
   ]
  },
  {
   "cell_type": "code",
   "execution_count": 140,
   "id": "03fb8eeb",
   "metadata": {},
   "outputs": [
    {
     "name": "stdout",
     "output_type": "stream",
     "text": [
      "wang 12\n",
      "li 100\n",
      "liu 6\n"
     ]
    }
   ],
   "source": [
    "for each_key in simple_dict1.keys():\n",
    "    print(each_key, simple_dict1.get(each_key))"
   ]
  },
  {
   "cell_type": "code",
   "execution_count": 142,
   "id": "ef5a99b3",
   "metadata": {},
   "outputs": [
    {
     "name": "stdout",
     "output_type": "stream",
     "text": [
      "C\n",
      "i\n",
      "n\n",
      "d\n",
      "y\n"
     ]
    }
   ],
   "source": [
    "for x in \"Cindy\":\n",
    "    print(x)"
   ]
  },
  {
   "cell_type": "code",
   "execution_count": 151,
   "id": "77181848",
   "metadata": {},
   "outputs": [
    {
     "data": {
      "text/plain": [
       "[1, 2, [2, 3], [2, 3], [2, 3]]"
      ]
     },
     "execution_count": 151,
     "metadata": {},
     "output_type": "execute_result"
    }
   ],
   "source": [
    "list_a"
   ]
  },
  {
   "cell_type": "code",
   "execution_count": 152,
   "id": "e101335b",
   "metadata": {},
   "outputs": [
    {
     "data": {
      "text/plain": [
       "[2, 3]"
      ]
     },
     "execution_count": 152,
     "metadata": {},
     "output_type": "execute_result"
    }
   ],
   "source": [
    "list_b"
   ]
  },
  {
   "cell_type": "code",
   "execution_count": 154,
   "id": "078c4c27",
   "metadata": {},
   "outputs": [
    {
     "name": "stdout",
     "output_type": "stream",
     "text": [
      "[1, 2, [2, 3], [2, 3], [2, 3], 2, 3]\n"
     ]
    }
   ],
   "source": [
    "list_all = list_a + list_b\n",
    "print(list_all)"
   ]
  },
  {
   "cell_type": "code",
   "execution_count": 156,
   "id": "8ff992ee",
   "metadata": {},
   "outputs": [
    {
     "name": "stdout",
     "output_type": "stream",
     "text": [
      "1\n",
      "2\n",
      "[2, 3]\n",
      "[2, 3]\n",
      "[2, 3]\n",
      "2\n",
      "3\n"
     ]
    }
   ],
   "source": [
    "for i in list_all:\n",
    "    print(i)"
   ]
  },
  {
   "cell_type": "markdown",
   "id": "d4d204d6",
   "metadata": {},
   "source": [
    "            6. While Loop\n",
    "             6 分钟"
   ]
  },
  {
   "cell_type": "code",
   "execution_count": null,
   "id": "6743a191",
   "metadata": {},
   "outputs": [],
   "source": []
  }
 ],
 "metadata": {
  "kernelspec": {
   "display_name": "python_practice",
   "language": "python",
   "name": "python_practice"
  },
  "language_info": {
   "codemirror_mode": {
    "name": "ipython",
    "version": 3
   },
   "file_extension": ".py",
   "mimetype": "text/x-python",
   "name": "python",
   "nbconvert_exporter": "python",
   "pygments_lexer": "ipython3",
   "version": "3.10.1"
  }
 },
 "nbformat": 4,
 "nbformat_minor": 5
}
